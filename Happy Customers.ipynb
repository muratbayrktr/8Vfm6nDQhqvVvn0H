{
 "cells": [
  {
   "cell_type": "markdown",
   "metadata": {},
   "source": [
    "# CLIENT SATISFACTION REVIEW ACCORDING TO FEEDBACKS"
   ]
  },
  {
   "cell_type": "code",
   "execution_count": 98,
   "metadata": {},
   "outputs": [],
   "source": [
    "\n",
    "import pandas as pd\n",
    "import requests\n",
    "import numpy as np\n",
    "from io import StringIO\n",
    "from sklearn.linear_model import SGDClassifier #we will use linear regression\n",
    "\n",
    "\n",
    "# retrieving data from the source as csv -> pd.DataFrame\n",
    "orig_url='https://drive.google.com/file/d/1KWE3J0uU_sFIJnZ74Id3FDBcejELI7FD/view'\n",
    "\n",
    "file_id = orig_url.split('/')[-2]\n",
    "dwn_url='https://drive.google.com/uc?export=download&id=' + file_id\n",
    "url = requests.get(dwn_url).text\n",
    "csv_raw = StringIO(url)\n",
    "dfs = pd.read_csv(csv_raw)\n",
    "df = pd.DataFrame(dfs)"
   ]
  },
  {
   "cell_type": "code",
   "execution_count": 99,
   "metadata": {
    "scrolled": true
   },
   "outputs": [
    {
     "data": {
      "text/html": [
       "<div>\n",
       "<style scoped>\n",
       "    .dataframe tbody tr th:only-of-type {\n",
       "        vertical-align: middle;\n",
       "    }\n",
       "\n",
       "    .dataframe tbody tr th {\n",
       "        vertical-align: top;\n",
       "    }\n",
       "\n",
       "    .dataframe thead th {\n",
       "        text-align: right;\n",
       "    }\n",
       "</style>\n",
       "<table border=\"1\" class=\"dataframe\">\n",
       "  <thead>\n",
       "    <tr style=\"text-align: right;\">\n",
       "      <th></th>\n",
       "      <th>Y</th>\n",
       "      <th>X1</th>\n",
       "      <th>X2</th>\n",
       "      <th>X3</th>\n",
       "      <th>X4</th>\n",
       "      <th>X5</th>\n",
       "      <th>X6</th>\n",
       "    </tr>\n",
       "  </thead>\n",
       "  <tbody>\n",
       "    <tr>\n",
       "      <th>0</th>\n",
       "      <td>0</td>\n",
       "      <td>3</td>\n",
       "      <td>3</td>\n",
       "      <td>3</td>\n",
       "      <td>4</td>\n",
       "      <td>2</td>\n",
       "      <td>4</td>\n",
       "    </tr>\n",
       "    <tr>\n",
       "      <th>1</th>\n",
       "      <td>0</td>\n",
       "      <td>3</td>\n",
       "      <td>2</td>\n",
       "      <td>3</td>\n",
       "      <td>5</td>\n",
       "      <td>4</td>\n",
       "      <td>3</td>\n",
       "    </tr>\n",
       "    <tr>\n",
       "      <th>2</th>\n",
       "      <td>1</td>\n",
       "      <td>5</td>\n",
       "      <td>3</td>\n",
       "      <td>3</td>\n",
       "      <td>3</td>\n",
       "      <td>3</td>\n",
       "      <td>5</td>\n",
       "    </tr>\n",
       "    <tr>\n",
       "      <th>3</th>\n",
       "      <td>0</td>\n",
       "      <td>5</td>\n",
       "      <td>4</td>\n",
       "      <td>3</td>\n",
       "      <td>3</td>\n",
       "      <td>3</td>\n",
       "      <td>5</td>\n",
       "    </tr>\n",
       "    <tr>\n",
       "      <th>4</th>\n",
       "      <td>0</td>\n",
       "      <td>5</td>\n",
       "      <td>4</td>\n",
       "      <td>3</td>\n",
       "      <td>3</td>\n",
       "      <td>3</td>\n",
       "      <td>5</td>\n",
       "    </tr>\n",
       "    <tr>\n",
       "      <th>5</th>\n",
       "      <td>1</td>\n",
       "      <td>5</td>\n",
       "      <td>5</td>\n",
       "      <td>3</td>\n",
       "      <td>5</td>\n",
       "      <td>5</td>\n",
       "      <td>5</td>\n",
       "    </tr>\n",
       "    <tr>\n",
       "      <th>6</th>\n",
       "      <td>0</td>\n",
       "      <td>3</td>\n",
       "      <td>1</td>\n",
       "      <td>2</td>\n",
       "      <td>2</td>\n",
       "      <td>1</td>\n",
       "      <td>3</td>\n",
       "    </tr>\n",
       "    <tr>\n",
       "      <th>7</th>\n",
       "      <td>1</td>\n",
       "      <td>5</td>\n",
       "      <td>4</td>\n",
       "      <td>4</td>\n",
       "      <td>4</td>\n",
       "      <td>4</td>\n",
       "      <td>5</td>\n",
       "    </tr>\n",
       "    <tr>\n",
       "      <th>8</th>\n",
       "      <td>0</td>\n",
       "      <td>4</td>\n",
       "      <td>1</td>\n",
       "      <td>4</td>\n",
       "      <td>4</td>\n",
       "      <td>4</td>\n",
       "      <td>4</td>\n",
       "    </tr>\n",
       "    <tr>\n",
       "      <th>9</th>\n",
       "      <td>0</td>\n",
       "      <td>4</td>\n",
       "      <td>4</td>\n",
       "      <td>4</td>\n",
       "      <td>2</td>\n",
       "      <td>5</td>\n",
       "      <td>5</td>\n",
       "    </tr>\n",
       "  </tbody>\n",
       "</table>\n",
       "</div>"
      ],
      "text/plain": [
       "   Y  X1  X2  X3  X4  X5  X6\n",
       "0  0   3   3   3   4   2   4\n",
       "1  0   3   2   3   5   4   3\n",
       "2  1   5   3   3   3   3   5\n",
       "3  0   5   4   3   3   3   5\n",
       "4  0   5   4   3   3   3   5\n",
       "5  1   5   5   3   5   5   5\n",
       "6  0   3   1   2   2   1   3\n",
       "7  1   5   4   4   4   4   5\n",
       "8  0   4   1   4   4   4   4\n",
       "9  0   4   4   4   2   5   5"
      ]
     },
     "execution_count": 99,
     "metadata": {},
     "output_type": "execute_result"
    }
   ],
   "source": [
    "df.head(10) # preview of data"
   ]
  },
  {
   "cell_type": "code",
   "execution_count": 100,
   "metadata": {},
   "outputs": [
    {
     "data": {
      "text/plain": [
       "Index(['Y', 'X1', 'X2', 'X3', 'X4', 'X5', 'X6'], dtype='object')"
      ]
     },
     "execution_count": 100,
     "metadata": {},
     "output_type": "execute_result"
    }
   ],
   "source": [
    "happy.keys() # demonstrating keys of the data"
   ]
  },
  {
   "cell_type": "code",
   "execution_count": 101,
   "metadata": {},
   "outputs": [],
   "source": [
    "# definin masks (filters)\n",
    "happy_mask = df['Y'] == 1\n",
    "unhappy_mask = df['Y'] == 0"
   ]
  },
  {
   "cell_type": "markdown",
   "metadata": {},
   "source": [
    "Happy Clients' Evaluation"
   ]
  },
  {
   "cell_type": "code",
   "execution_count": 102,
   "metadata": {},
   "outputs": [
    {
     "data": {
      "text/plain": [
       "[4.536231884057971,\n",
       " 2.5072463768115942,\n",
       " 3.449275362318841,\n",
       " 3.7971014492753623,\n",
       " 3.8840579710144927,\n",
       " 4.3768115942028984]"
      ]
     },
     "execution_count": 102,
     "metadata": {},
     "output_type": "execute_result"
    }
   ],
   "source": [
    "happy = df[:].where(happy_mask).dropna()\n",
    "happy_meanlist = [np.sum(happy[col])/len(happy) for col in happy.keys()[1:]]\n",
    "happy_meanlist\n",
    "# According to the values,\n",
    "# X1 is probably the leading reason for clients to be happy from the order. They think that the delivery time was excellent.\n",
    "# The happy customers are overwhelmingly agree upon the idea that the app was easy to use and make order. They are also satis-\n",
    "# fied with the courier and they think that they paid a good price.\n",
    "# It is indicating that the customers are happy about the delivery time, transportation and the price they paid, however it\n",
    "# is seemingly obvious that the products didn't meet the expectations."
   ]
  },
  {
   "cell_type": "markdown",
   "metadata": {},
   "source": [
    "Unhappy Clients' Evaluation"
   ]
  },
  {
   "cell_type": "code",
   "execution_count": 103,
   "metadata": {},
   "outputs": [
    {
     "data": {
      "text/plain": [
       "[3.3768115942028984,\n",
       " 2.1159420289855073,\n",
       " 2.5942028985507246,\n",
       " 3.0434782608695654,\n",
       " 2.782608695652174,\n",
       " 3.391304347826087]"
      ]
     },
     "execution_count": 103,
     "metadata": {},
     "output_type": "execute_result"
    }
   ],
   "source": [
    "unhappy = df[:].where(unhappy_mask).dropna()\n",
    "unhappy_meanlist = [np.sum(unhappy[col])/len(happy) for col in happy.keys()[1:]]\n",
    "unhappy_meanlist\n",
    "# According to the values,\n",
    "# X2 is the most effective criteria for participants to be unhappy from the work they get. \n",
    "# X3 and X4 are the following criterias for participants to be unhappy from the work they get.\n",
    "# Namely, clients are unhappy because the order they expect didn't met what they got. It also implies that time is less\n",
    "# important for clients rather than the content of the work. Customers generally find out that they couldn't order everything\n",
    "# they wanted to order in the first place. Which implies that company is weak at presenting the products to the customer.\n",
    "# It also shows that some of the customers are unhappy because they weren't satisfied with the courier. Transportation may be\n",
    "# improved.\n",
    "# Even though some customers were not happy with the order, they liked the app and it was easy for them to make order. They are\n",
    "# also satisfied with the price they paid and they think it was fair. They are also thinking that delivery time was satisfying."
   ]
  },
  {
   "cell_type": "code",
   "execution_count": 104,
   "metadata": {},
   "outputs": [
    {
     "name": "stdout",
     "output_type": "stream",
     "text": [
      "Customer is predicted to be unhappy.\n",
      "Customer is predicted to be happy.\n"
     ]
    }
   ],
   "source": [
    "# Machine learning code that predicts the happy/unhappy state according to the answers given to the questions\n",
    "def isHappy(customer_data,test):\n",
    "    x = customer_data.drop(columns='Y')\n",
    "    y = customer_data['Y']\n",
    "    model = SGDClassifier(loss='modified_huber',shuffle=True,random_state=101)\n",
    "    model.fit(x, y)\n",
    "    prediction = model.predict([test])\n",
    "    if prediction[0] == 0:\n",
    "        print(\"Customer is predicted to be unhappy.\")\n",
    "    else:\n",
    "        print(\"Customer is predicted to be happy.\")\n",
    "\n",
    "\n",
    "isHappy(dfs,[3,2,2,3,2,3])\n",
    "isHappy(dfs,[5,4,4,5,4,5])\n"
   ]
  },
  {
   "cell_type": "markdown",
   "metadata": {},
   "source": [
    "# CONCLUSION"
   ]
  },
  {
   "cell_type": "markdown",
   "metadata": {},
   "source": [
    "It can be inferred from the evaluations that the both happy and the unhappy customers are satisfied with the transportation and they think that the price they paid was fair. However neither happy customers nor unhappy customers think that the order was far from what they expected, in general."
   ]
  }
 ],
 "metadata": {
  "kernelspec": {
   "display_name": "Python 3",
   "language": "python",
   "name": "python3"
  },
  "language_info": {
   "codemirror_mode": {
    "name": "ipython",
    "version": 3
   },
   "file_extension": ".py",
   "mimetype": "text/x-python",
   "name": "python",
   "nbconvert_exporter": "python",
   "pygments_lexer": "ipython3",
   "version": "3.7.3"
  }
 },
 "nbformat": 4,
 "nbformat_minor": 2
}
